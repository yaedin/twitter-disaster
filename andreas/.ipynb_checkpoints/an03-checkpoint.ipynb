{
 "cells": [
  {
   "cell_type": "code",
   "execution_count": 1,
   "metadata": {},
   "outputs": [],
   "source": [
    "import pandas as pd\n",
    "import numpy as np\n",
    "import matplotlib.pyplot as plt\n",
    "import seaborn as sns\n",
    "import nltk\n",
    "from sklearn.neighbors import KNeighborsClassifier\n",
    "from sklearn.svm import SVC\n",
    "\n",
    "from sklearn.linear_model import LogisticRegression\n"
   ]
  },
  {
   "cell_type": "code",
   "execution_count": 53,
   "metadata": {},
   "outputs": [
    {
     "name": "stdout",
     "output_type": "stream",
     "text": [
      "Collecting spacy\n",
      "  Downloading spacy-2.3.2-cp38-cp38-manylinux1_x86_64.whl (9.8 MB)\n",
      "\u001b[K     |████████████████████████████████| 9.8 MB 3.6 MB/s eta 0:00:01\n",
      "\u001b[?25hCollecting wasabi<1.1.0,>=0.4.0\n",
      "  Downloading wasabi-0.8.0-py3-none-any.whl (23 kB)\n",
      "Requirement already satisfied: tqdm<5.0.0,>=4.38.0 in /home/an/anaconda3/lib/python3.8/site-packages (from spacy) (4.47.0)\n",
      "Collecting srsly<1.1.0,>=1.0.2\n",
      "  Downloading srsly-1.0.2-cp38-cp38-manylinux1_x86_64.whl (185 kB)\n",
      "\u001b[K     |████████████████████████████████| 185 kB 2.4 MB/s eta 0:00:01\n",
      "\u001b[?25hRequirement already satisfied: numpy>=1.15.0 in /home/an/anaconda3/lib/python3.8/site-packages (from spacy) (1.18.5)\n",
      "Collecting plac<1.2.0,>=0.9.6\n",
      "  Downloading plac-1.1.3-py2.py3-none-any.whl (20 kB)\n",
      "Requirement already satisfied: setuptools in /home/an/anaconda3/lib/python3.8/site-packages (from spacy) (49.2.0.post20200714)\n",
      "Collecting blis<0.5.0,>=0.4.0\n",
      "  Downloading blis-0.4.1-cp38-cp38-manylinux1_x86_64.whl (3.7 MB)\n",
      "\u001b[K     |████████████████████████████████| 3.7 MB 3.2 MB/s eta 0:00:01\n",
      "\u001b[?25hCollecting catalogue<1.1.0,>=0.0.7\n",
      "  Downloading catalogue-1.0.0-py2.py3-none-any.whl (7.7 kB)\n",
      "Requirement already satisfied: requests<3.0.0,>=2.13.0 in /home/an/anaconda3/lib/python3.8/site-packages (from spacy) (2.24.0)\n",
      "Collecting thinc==7.4.1\n",
      "  Downloading thinc-7.4.1-cp38-cp38-manylinux1_x86_64.whl (2.1 MB)\n",
      "\u001b[K     |████████████████████████████████| 2.1 MB 9.1 MB/s eta 0:00:01\n",
      "\u001b[?25hCollecting preshed<3.1.0,>=3.0.2\n",
      "  Downloading preshed-3.0.2-cp38-cp38-manylinux1_x86_64.whl (118 kB)\n",
      "\u001b[K     |████████████████████████████████| 118 kB 2.4 MB/s eta 0:00:01\n",
      "\u001b[?25hCollecting murmurhash<1.1.0,>=0.28.0\n",
      "  Downloading murmurhash-1.0.2-cp38-cp38-manylinux1_x86_64.whl (19 kB)\n",
      "Collecting cymem<2.1.0,>=2.0.2\n",
      "  Downloading cymem-2.0.3-cp38-cp38-manylinux1_x86_64.whl (33 kB)\n",
      "Requirement already satisfied: idna<3,>=2.5 in /home/an/anaconda3/lib/python3.8/site-packages (from requests<3.0.0,>=2.13.0->spacy) (2.10)\n",
      "Requirement already satisfied: urllib3!=1.25.0,!=1.25.1,<1.26,>=1.21.1 in /home/an/anaconda3/lib/python3.8/site-packages (from requests<3.0.0,>=2.13.0->spacy) (1.25.9)\n",
      "Requirement already satisfied: chardet<4,>=3.0.2 in /home/an/anaconda3/lib/python3.8/site-packages (from requests<3.0.0,>=2.13.0->spacy) (3.0.4)\n",
      "Requirement already satisfied: certifi>=2017.4.17 in /home/an/anaconda3/lib/python3.8/site-packages (from requests<3.0.0,>=2.13.0->spacy) (2020.6.20)\n",
      "Installing collected packages: wasabi, srsly, plac, blis, catalogue, murmurhash, cymem, preshed, thinc, spacy\n",
      "Successfully installed blis-0.4.1 catalogue-1.0.0 cymem-2.0.3 murmurhash-1.0.2 plac-1.1.3 preshed-3.0.2 spacy-2.3.2 srsly-1.0.2 thinc-7.4.1 wasabi-0.8.0\n"
     ]
    }
   ],
   "source": [
    "!pip install spacy"
   ]
  },
  {
   "cell_type": "code",
   "execution_count": 2,
   "metadata": {},
   "outputs": [],
   "source": [
    "df = pd.read_csv('../raw/disaster_tweets.csv')   #..  höhere Ordnerebene"
   ]
  },
  {
   "cell_type": "code",
   "execution_count": 3,
   "metadata": {},
   "outputs": [
    {
     "data": {
      "text/plain": [
       "(7613, 5)"
      ]
     },
     "execution_count": 3,
     "metadata": {},
     "output_type": "execute_result"
    }
   ],
   "source": [
    "df.shape"
   ]
  },
  {
   "cell_type": "code",
   "execution_count": 4,
   "metadata": {},
   "outputs": [
    {
     "data": {
      "text/html": [
       "<div>\n",
       "<style scoped>\n",
       "    .dataframe tbody tr th:only-of-type {\n",
       "        vertical-align: middle;\n",
       "    }\n",
       "\n",
       "    .dataframe tbody tr th {\n",
       "        vertical-align: top;\n",
       "    }\n",
       "\n",
       "    .dataframe thead th {\n",
       "        text-align: right;\n",
       "    }\n",
       "</style>\n",
       "<table border=\"1\" class=\"dataframe\">\n",
       "  <thead>\n",
       "    <tr style=\"text-align: right;\">\n",
       "      <th></th>\n",
       "      <th>id</th>\n",
       "      <th>keyword</th>\n",
       "      <th>location</th>\n",
       "      <th>text</th>\n",
       "      <th>target</th>\n",
       "    </tr>\n",
       "  </thead>\n",
       "  <tbody>\n",
       "    <tr>\n",
       "      <th>0</th>\n",
       "      <td>1</td>\n",
       "      <td>NaN</td>\n",
       "      <td>NaN</td>\n",
       "      <td>Our Deeds are the Reason of this #earthquake M...</td>\n",
       "      <td>1</td>\n",
       "    </tr>\n",
       "    <tr>\n",
       "      <th>1</th>\n",
       "      <td>4</td>\n",
       "      <td>NaN</td>\n",
       "      <td>NaN</td>\n",
       "      <td>Forest fire near La Ronge Sask. Canada</td>\n",
       "      <td>1</td>\n",
       "    </tr>\n",
       "    <tr>\n",
       "      <th>2</th>\n",
       "      <td>5</td>\n",
       "      <td>NaN</td>\n",
       "      <td>NaN</td>\n",
       "      <td>All residents asked to 'shelter in place' are ...</td>\n",
       "      <td>1</td>\n",
       "    </tr>\n",
       "  </tbody>\n",
       "</table>\n",
       "</div>"
      ],
      "text/plain": [
       "   id keyword location                                               text  \\\n",
       "0   1     NaN      NaN  Our Deeds are the Reason of this #earthquake M...   \n",
       "1   4     NaN      NaN             Forest fire near La Ronge Sask. Canada   \n",
       "2   5     NaN      NaN  All residents asked to 'shelter in place' are ...   \n",
       "\n",
       "   target  \n",
       "0       1  \n",
       "1       1  \n",
       "2       1  "
      ]
     },
     "execution_count": 4,
     "metadata": {},
     "output_type": "execute_result"
    }
   ],
   "source": [
    "df.head(3)"
   ]
  },
  {
   "cell_type": "code",
   "execution_count": 5,
   "metadata": {},
   "outputs": [
    {
     "name": "stdout",
     "output_type": "stream",
     "text": [
      "<class 'pandas.core.frame.DataFrame'>\n",
      "RangeIndex: 7613 entries, 0 to 7612\n",
      "Data columns (total 5 columns):\n",
      " #   Column    Non-Null Count  Dtype \n",
      "---  ------    --------------  ----- \n",
      " 0   id        7613 non-null   int64 \n",
      " 1   keyword   7552 non-null   object\n",
      " 2   location  5080 non-null   object\n",
      " 3   text      7613 non-null   object\n",
      " 4   target    7613 non-null   int64 \n",
      "dtypes: int64(2), object(3)\n",
      "memory usage: 297.5+ KB\n"
     ]
    }
   ],
   "source": [
    "df.info()\n",
    "#Spalten 3 und 4 text, target vollständig, Spalte 1 keyword 99% und Spalte 2 location etwa 67%"
   ]
  },
  {
   "cell_type": "code",
   "execution_count": 6,
   "metadata": {},
   "outputs": [
    {
     "data": {
      "text/plain": [
       "221"
      ]
     },
     "execution_count": 6,
     "metadata": {},
     "output_type": "execute_result"
    }
   ],
   "source": [
    "df.keyword.nunique()\n",
    "#nur 221 verschiedene keywords in 7552 entries rd. 3%"
   ]
  },
  {
   "cell_type": "code",
   "execution_count": 7,
   "metadata": {},
   "outputs": [
    {
     "data": {
      "text/plain": [
       "array([nan, 'ablaze', 'accident', 'aftershock', 'airplane%20accident',\n",
       "       'ambulance', 'annihilated', 'annihilation', 'apocalypse',\n",
       "       'armageddon', 'army', 'arson', 'arsonist', 'attack', 'attacked',\n",
       "       'avalanche', 'battle', 'bioterror', 'bioterrorism', 'blaze',\n",
       "       'blazing', 'bleeding', 'blew%20up', 'blight', 'blizzard', 'blood',\n",
       "       'bloody', 'blown%20up', 'body%20bag', 'body%20bagging',\n",
       "       'body%20bags', 'bomb', 'bombed', 'bombing', 'bridge%20collapse',\n",
       "       'buildings%20burning', 'buildings%20on%20fire', 'burned',\n",
       "       'burning', 'burning%20buildings', 'bush%20fires', 'casualties',\n",
       "       'casualty', 'catastrophe', 'catastrophic', 'chemical%20emergency',\n",
       "       'cliff%20fall', 'collapse', 'collapsed', 'collide', 'collided',\n",
       "       'collision', 'crash', 'crashed', 'crush', 'crushed', 'curfew',\n",
       "       'cyclone', 'damage', 'danger', 'dead', 'death', 'deaths', 'debris',\n",
       "       'deluge', 'deluged', 'demolish', 'demolished', 'demolition',\n",
       "       'derail', 'derailed', 'derailment', 'desolate', 'desolation',\n",
       "       'destroy', 'destroyed', 'destruction', 'detonate', 'detonation',\n",
       "       'devastated', 'devastation', 'disaster', 'displaced', 'drought',\n",
       "       'drown', 'drowned', 'drowning', 'dust%20storm', 'earthquake',\n",
       "       'electrocute', 'electrocuted', 'emergency', 'emergency%20plan',\n",
       "       'emergency%20services', 'engulfed', 'epicentre', 'evacuate',\n",
       "       'evacuated', 'evacuation', 'explode', 'exploded', 'explosion',\n",
       "       'eyewitness', 'famine', 'fatal', 'fatalities', 'fatality', 'fear',\n",
       "       'fire', 'fire%20truck', 'first%20responders', 'flames',\n",
       "       'flattened', 'flood', 'flooding', 'floods', 'forest%20fire',\n",
       "       'forest%20fires', 'hail', 'hailstorm', 'harm', 'hazard',\n",
       "       'hazardous', 'heat%20wave', 'hellfire', 'hijack', 'hijacker',\n",
       "       'hijacking', 'hostage', 'hostages', 'hurricane', 'injured',\n",
       "       'injuries', 'injury', 'inundated', 'inundation', 'landslide',\n",
       "       'lava', 'lightning', 'loud%20bang', 'mass%20murder',\n",
       "       'mass%20murderer', 'massacre', 'mayhem', 'meltdown', 'military',\n",
       "       'mudslide', 'natural%20disaster', 'nuclear%20disaster',\n",
       "       'nuclear%20reactor', 'obliterate', 'obliterated', 'obliteration',\n",
       "       'oil%20spill', 'outbreak', 'pandemonium', 'panic', 'panicking',\n",
       "       'police', 'quarantine', 'quarantined', 'radiation%20emergency',\n",
       "       'rainstorm', 'razed', 'refugees', 'rescue', 'rescued', 'rescuers',\n",
       "       'riot', 'rioting', 'rubble', 'ruin', 'sandstorm', 'screamed',\n",
       "       'screaming', 'screams', 'seismic', 'sinkhole', 'sinking', 'siren',\n",
       "       'sirens', 'smoke', 'snowstorm', 'storm', 'stretcher',\n",
       "       'structural%20failure', 'suicide%20bomb', 'suicide%20bomber',\n",
       "       'suicide%20bombing', 'sunk', 'survive', 'survived', 'survivors',\n",
       "       'terrorism', 'terrorist', 'threat', 'thunder', 'thunderstorm',\n",
       "       'tornado', 'tragedy', 'trapped', 'trauma', 'traumatised',\n",
       "       'trouble', 'tsunami', 'twister', 'typhoon', 'upheaval',\n",
       "       'violent%20storm', 'volcano', 'war%20zone', 'weapon', 'weapons',\n",
       "       'whirlwind', 'wild%20fires', 'wildfire', 'windstorm', 'wounded',\n",
       "       'wounds', 'wreck', 'wreckage', 'wrecked'], dtype=object)"
      ]
     },
     "execution_count": 7,
     "metadata": {},
     "output_type": "execute_result"
    }
   ],
   "source": [
    "df.keyword.unique()"
   ]
  },
  {
   "cell_type": "code",
   "execution_count": 8,
   "metadata": {},
   "outputs": [
    {
     "data": {
      "text/plain": [
       "3341"
      ]
     },
     "execution_count": 8,
     "metadata": {},
     "output_type": "execute_result"
    }
   ],
   "source": [
    "df.location.nunique()\n",
    "#nur wenige locations mehrmals"
   ]
  },
  {
   "cell_type": "code",
   "execution_count": 9,
   "metadata": {},
   "outputs": [
    {
     "data": {
      "text/plain": [
       "array([nan, 'Birmingham', 'Est. September 2012 - Bristol', ...,\n",
       "       'Vancouver, Canada', 'London ', 'Lincoln'], dtype=object)"
      ]
     },
     "execution_count": 9,
     "metadata": {},
     "output_type": "execute_result"
    }
   ],
   "source": [
    "df.location.unique()"
   ]
  },
  {
   "cell_type": "code",
   "execution_count": 10,
   "metadata": {},
   "outputs": [],
   "source": [
    "dfk = df.drop('location', axis = 1)"
   ]
  },
  {
   "cell_type": "code",
   "execution_count": 11,
   "metadata": {},
   "outputs": [
    {
     "data": {
      "text/plain": [
       "Index(['id', 'keyword', 'text', 'target'], dtype='object')"
      ]
     },
     "execution_count": 11,
     "metadata": {},
     "output_type": "execute_result"
    }
   ],
   "source": [
    "dfk.columns"
   ]
  },
  {
   "cell_type": "code",
   "execution_count": 12,
   "metadata": {},
   "outputs": [
    {
     "data": {
      "text/plain": [
       "(7613, 4)"
      ]
     },
     "execution_count": 12,
     "metadata": {},
     "output_type": "execute_result"
    }
   ],
   "source": [
    "dfk.shape"
   ]
  },
  {
   "cell_type": "code",
   "execution_count": 13,
   "metadata": {},
   "outputs": [],
   "source": [
    "dfk = dfk.dropna().copy()"
   ]
  },
  {
   "cell_type": "code",
   "execution_count": 14,
   "metadata": {},
   "outputs": [
    {
     "data": {
      "text/plain": [
       "(7552, 4)"
      ]
     },
     "execution_count": 14,
     "metadata": {},
     "output_type": "execute_result"
    }
   ],
   "source": [
    "dfk.shape\n",
    "#alphabet. order by keyword"
   ]
  },
  {
   "cell_type": "code",
   "execution_count": 15,
   "metadata": {},
   "outputs": [
    {
     "data": {
      "text/html": [
       "<div>\n",
       "<style scoped>\n",
       "    .dataframe tbody tr th:only-of-type {\n",
       "        vertical-align: middle;\n",
       "    }\n",
       "\n",
       "    .dataframe tbody tr th {\n",
       "        vertical-align: top;\n",
       "    }\n",
       "\n",
       "    .dataframe thead th {\n",
       "        text-align: right;\n",
       "    }\n",
       "</style>\n",
       "<table border=\"1\" class=\"dataframe\">\n",
       "  <thead>\n",
       "    <tr style=\"text-align: right;\">\n",
       "      <th></th>\n",
       "      <th>id</th>\n",
       "      <th>keyword</th>\n",
       "      <th>text</th>\n",
       "      <th>target</th>\n",
       "    </tr>\n",
       "  </thead>\n",
       "  <tbody>\n",
       "    <tr>\n",
       "      <th>6896</th>\n",
       "      <td>9885</td>\n",
       "      <td>traumatised</td>\n",
       "      <td>@EMILY4EVEREVER haha it's alright..but more th...</td>\n",
       "      <td>0</td>\n",
       "    </tr>\n",
       "    <tr>\n",
       "      <th>4842</th>\n",
       "      <td>6896</td>\n",
       "      <td>mass%20murder</td>\n",
       "      <td>Okay not sure the word 'mass murder' applies d...</td>\n",
       "      <td>1</td>\n",
       "    </tr>\n",
       "    <tr>\n",
       "      <th>697</th>\n",
       "      <td>1004</td>\n",
       "      <td>blazing</td>\n",
       "      <td>I'm crazy enough to run in 95 degree mid-day h...</td>\n",
       "      <td>0</td>\n",
       "    </tr>\n",
       "    <tr>\n",
       "      <th>6918</th>\n",
       "      <td>9920</td>\n",
       "      <td>trouble</td>\n",
       "      <td>Trouble trouble when I don't get my way ????</td>\n",
       "      <td>0</td>\n",
       "    </tr>\n",
       "    <tr>\n",
       "      <th>4010</th>\n",
       "      <td>5694</td>\n",
       "      <td>floods</td>\n",
       "      <td>May Allah help all those suffering from the #P...</td>\n",
       "      <td>1</td>\n",
       "    </tr>\n",
       "    <tr>\n",
       "      <th>2781</th>\n",
       "      <td>3998</td>\n",
       "      <td>disaster</td>\n",
       "      <td>I forgot to bring chocolate with me. Major dis...</td>\n",
       "      <td>0</td>\n",
       "    </tr>\n",
       "    <tr>\n",
       "      <th>3909</th>\n",
       "      <td>5559</td>\n",
       "      <td>flattened</td>\n",
       "      <td>@SatanaOfHell ever seen by far. A dreamy look ...</td>\n",
       "      <td>1</td>\n",
       "    </tr>\n",
       "    <tr>\n",
       "      <th>4439</th>\n",
       "      <td>6317</td>\n",
       "      <td>hostage</td>\n",
       "      <td>Islamic State group in Egypt threatens to kill...</td>\n",
       "      <td>1</td>\n",
       "    </tr>\n",
       "    <tr>\n",
       "      <th>5556</th>\n",
       "      <td>7930</td>\n",
       "      <td>rainstorm</td>\n",
       "      <td>Landslide in Italian Alps kills three - ROME (...</td>\n",
       "      <td>1</td>\n",
       "    </tr>\n",
       "    <tr>\n",
       "      <th>1603</th>\n",
       "      <td>2314</td>\n",
       "      <td>collapse</td>\n",
       "      <td>Interview on The Collapse of Materialism Best ...</td>\n",
       "      <td>1</td>\n",
       "    </tr>\n",
       "  </tbody>\n",
       "</table>\n",
       "</div>"
      ],
      "text/plain": [
       "        id        keyword                                               text  \\\n",
       "6896  9885    traumatised  @EMILY4EVEREVER haha it's alright..but more th...   \n",
       "4842  6896  mass%20murder  Okay not sure the word 'mass murder' applies d...   \n",
       "697   1004        blazing  I'm crazy enough to run in 95 degree mid-day h...   \n",
       "6918  9920        trouble       Trouble trouble when I don't get my way ????   \n",
       "4010  5694         floods  May Allah help all those suffering from the #P...   \n",
       "2781  3998       disaster  I forgot to bring chocolate with me. Major dis...   \n",
       "3909  5559      flattened  @SatanaOfHell ever seen by far. A dreamy look ...   \n",
       "4439  6317        hostage  Islamic State group in Egypt threatens to kill...   \n",
       "5556  7930      rainstorm  Landslide in Italian Alps kills three - ROME (...   \n",
       "1603  2314       collapse  Interview on The Collapse of Materialism Best ...   \n",
       "\n",
       "      target  \n",
       "6896       0  \n",
       "4842       1  \n",
       "697        0  \n",
       "6918       0  \n",
       "4010       1  \n",
       "2781       0  \n",
       "3909       1  \n",
       "4439       1  \n",
       "5556       1  \n",
       "1603       1  "
      ]
     },
     "execution_count": 15,
     "metadata": {},
     "output_type": "execute_result"
    }
   ],
   "source": [
    "dfk.sample(10)"
   ]
  },
  {
   "cell_type": "code",
   "execution_count": 16,
   "metadata": {},
   "outputs": [
    {
     "data": {
      "text/html": [
       "<div>\n",
       "<style scoped>\n",
       "    .dataframe tbody tr th:only-of-type {\n",
       "        vertical-align: middle;\n",
       "    }\n",
       "\n",
       "    .dataframe tbody tr th {\n",
       "        vertical-align: top;\n",
       "    }\n",
       "\n",
       "    .dataframe thead th {\n",
       "        text-align: right;\n",
       "    }\n",
       "</style>\n",
       "<table border=\"1\" class=\"dataframe\">\n",
       "  <thead>\n",
       "    <tr style=\"text-align: right;\">\n",
       "      <th></th>\n",
       "      <th>id</th>\n",
       "      <th>keyword</th>\n",
       "      <th>text</th>\n",
       "      <th>target</th>\n",
       "      <th>kw_clean</th>\n",
       "    </tr>\n",
       "  </thead>\n",
       "  <tbody>\n",
       "    <tr>\n",
       "      <th>6289</th>\n",
       "      <td>8985</td>\n",
       "      <td>storm</td>\n",
       "      <td>#NASA announced that a massive #solar storm is...</td>\n",
       "      <td>1</td>\n",
       "      <td>storm</td>\n",
       "    </tr>\n",
       "    <tr>\n",
       "      <th>7199</th>\n",
       "      <td>10314</td>\n",
       "      <td>weapon</td>\n",
       "      <td>#InsaneLimits #plugin enabled  @'    =TPS= | T...</td>\n",
       "      <td>0</td>\n",
       "      <td>weapon</td>\n",
       "    </tr>\n",
       "    <tr>\n",
       "      <th>3819</th>\n",
       "      <td>5428</td>\n",
       "      <td>first%20responders</td>\n",
       "      <td>I just added 'Sandy First Responders Lost Thei...</td>\n",
       "      <td>1</td>\n",
       "      <td>first responders</td>\n",
       "    </tr>\n",
       "    <tr>\n",
       "      <th>4196</th>\n",
       "      <td>5959</td>\n",
       "      <td>hazard</td>\n",
       "      <td>Choking Hazard Prompts Recall Of Kraft Cheese ...</td>\n",
       "      <td>0</td>\n",
       "      <td>hazard</td>\n",
       "    </tr>\n",
       "    <tr>\n",
       "      <th>4098</th>\n",
       "      <td>5825</td>\n",
       "      <td>hail</td>\n",
       "      <td>New warning for Central Hills 1' hail 60 mph w...</td>\n",
       "      <td>1</td>\n",
       "      <td>hail</td>\n",
       "    </tr>\n",
       "    <tr>\n",
       "      <th>1207</th>\n",
       "      <td>1739</td>\n",
       "      <td>buildings%20burning</td>\n",
       "      <td>Messi: has tattoos so he can't donate blood\\nR...</td>\n",
       "      <td>1</td>\n",
       "      <td>buildings burning</td>\n",
       "    </tr>\n",
       "    <tr>\n",
       "      <th>2138</th>\n",
       "      <td>3070</td>\n",
       "      <td>deaths</td>\n",
       "      <td>Irony just died a thousand deaths! ???? http:/...</td>\n",
       "      <td>0</td>\n",
       "      <td>deaths</td>\n",
       "    </tr>\n",
       "    <tr>\n",
       "      <th>3690</th>\n",
       "      <td>5251</td>\n",
       "      <td>fatality</td>\n",
       "      <td>I liked a @YouTube video from @vgbootcamp http...</td>\n",
       "      <td>0</td>\n",
       "      <td>fatality</td>\n",
       "    </tr>\n",
       "    <tr>\n",
       "      <th>3251</th>\n",
       "      <td>4672</td>\n",
       "      <td>engulfed</td>\n",
       "      <td>He came to a land which was engulfed in tribal...</td>\n",
       "      <td>0</td>\n",
       "      <td>engulfed</td>\n",
       "    </tr>\n",
       "    <tr>\n",
       "      <th>4610</th>\n",
       "      <td>6553</td>\n",
       "      <td>injury</td>\n",
       "      <td>DAL News: Wednesday's injury report: RB Lance ...</td>\n",
       "      <td>0</td>\n",
       "      <td>injury</td>\n",
       "    </tr>\n",
       "    <tr>\n",
       "      <th>4459</th>\n",
       "      <td>6342</td>\n",
       "      <td>hostages</td>\n",
       "      <td>Sinjar Massacre Yazidis Blast Lack of Action O...</td>\n",
       "      <td>1</td>\n",
       "      <td>hostages</td>\n",
       "    </tr>\n",
       "    <tr>\n",
       "      <th>2828</th>\n",
       "      <td>4064</td>\n",
       "      <td>displaced</td>\n",
       "      <td>#KCA #VoteJKT48ID 12News: UPDATE: A family of ...</td>\n",
       "      <td>1</td>\n",
       "      <td>displaced</td>\n",
       "    </tr>\n",
       "  </tbody>\n",
       "</table>\n",
       "</div>"
      ],
      "text/plain": [
       "         id              keyword  \\\n",
       "6289   8985                storm   \n",
       "7199  10314               weapon   \n",
       "3819   5428   first%20responders   \n",
       "4196   5959               hazard   \n",
       "4098   5825                 hail   \n",
       "1207   1739  buildings%20burning   \n",
       "2138   3070               deaths   \n",
       "3690   5251             fatality   \n",
       "3251   4672             engulfed   \n",
       "4610   6553               injury   \n",
       "4459   6342             hostages   \n",
       "2828   4064            displaced   \n",
       "\n",
       "                                                   text  target  \\\n",
       "6289  #NASA announced that a massive #solar storm is...       1   \n",
       "7199  #InsaneLimits #plugin enabled  @'    =TPS= | T...       0   \n",
       "3819  I just added 'Sandy First Responders Lost Thei...       1   \n",
       "4196  Choking Hazard Prompts Recall Of Kraft Cheese ...       0   \n",
       "4098  New warning for Central Hills 1' hail 60 mph w...       1   \n",
       "1207  Messi: has tattoos so he can't donate blood\\nR...       1   \n",
       "2138  Irony just died a thousand deaths! ???? http:/...       0   \n",
       "3690  I liked a @YouTube video from @vgbootcamp http...       0   \n",
       "3251  He came to a land which was engulfed in tribal...       0   \n",
       "4610  DAL News: Wednesday's injury report: RB Lance ...       0   \n",
       "4459  Sinjar Massacre Yazidis Blast Lack of Action O...       1   \n",
       "2828  #KCA #VoteJKT48ID 12News: UPDATE: A family of ...       1   \n",
       "\n",
       "               kw_clean  \n",
       "6289              storm  \n",
       "7199             weapon  \n",
       "3819   first responders  \n",
       "4196             hazard  \n",
       "4098               hail  \n",
       "1207  buildings burning  \n",
       "2138             deaths  \n",
       "3690           fatality  \n",
       "3251           engulfed  \n",
       "4610             injury  \n",
       "4459           hostages  \n",
       "2828          displaced  "
      ]
     },
     "execution_count": 16,
     "metadata": {},
     "output_type": "execute_result"
    }
   ],
   "source": [
    "dfk['kw_clean'] = dfk.keyword.str.replace('%20', ' ')\n",
    "dfk.columns\n",
    "dfk.sample(12)\n",
    "\n",
    "#df_kw.columns\n",
    "#in keywords '%20' entfernt, blank eingesetzt"
   ]
  },
  {
   "cell_type": "code",
   "execution_count": null,
   "metadata": {},
   "outputs": [],
   "source": []
  },
  {
   "cell_type": "code",
   "execution_count": 17,
   "metadata": {},
   "outputs": [
    {
     "data": {
      "text/plain": [
       "221"
      ]
     },
     "execution_count": 17,
     "metadata": {},
     "output_type": "execute_result"
    }
   ],
   "source": [
    "dfk.kw_clean.nunique()"
   ]
  },
  {
   "cell_type": "code",
   "execution_count": 59,
   "metadata": {},
   "outputs": [
    {
     "name": "stderr",
     "output_type": "stream",
     "text": [
      "[nltk_data] Downloading package wordnet to /home/an/nltk_data...\n",
      "[nltk_data]   Package wordnet is already up-to-date!\n"
     ]
    }
   ],
   "source": [
    "import spacy\n",
    "\n",
    "import nltk\n",
    "nltk.download('wordnet')\n",
    "\n",
    "\n",
    "from nltk.stem import WordNetLemmatizer \n",
    "  \n",
    "lem = WordNetLemmatizer()\n",
    "\n",
    "#kw_lem = lem.lemmatize(dfk.kw_clean)    #fix bug / how to lemmatize series"
   ]
  },
  {
   "cell_type": "code",
   "execution_count": 18,
   "metadata": {},
   "outputs": [
    {
     "data": {
      "text/plain": [
       "array(['ablaze', 'accident', 'aftershock', 'airplane accident',\n",
       "       'ambulance', 'annihilated', 'annihilation', 'apocalypse',\n",
       "       'armageddon', 'army', 'arson', 'arsonist', 'attack', 'attacked',\n",
       "       'avalanche', 'battle', 'bioterror', 'bioterrorism', 'blaze',\n",
       "       'blazing', 'bleeding', 'blew up', 'blight', 'blizzard', 'blood',\n",
       "       'bloody', 'blown up', 'body bag', 'body bagging', 'body bags',\n",
       "       'bomb', 'bombed', 'bombing', 'bridge collapse',\n",
       "       'buildings burning', 'buildings on fire', 'burned', 'burning',\n",
       "       'burning buildings', 'bush fires', 'casualties', 'casualty',\n",
       "       'catastrophe', 'catastrophic', 'chemical emergency', 'cliff fall',\n",
       "       'collapse', 'collapsed', 'collide', 'collided', 'collision',\n",
       "       'crash', 'crashed', 'crush', 'crushed', 'curfew', 'cyclone',\n",
       "       'damage', 'danger', 'dead', 'death', 'deaths', 'debris', 'deluge',\n",
       "       'deluged', 'demolish', 'demolished', 'demolition', 'derail',\n",
       "       'derailed', 'derailment', 'desolate', 'desolation', 'destroy',\n",
       "       'destroyed', 'destruction', 'detonate', 'detonation', 'devastated',\n",
       "       'devastation', 'disaster', 'displaced', 'drought', 'drown',\n",
       "       'drowned', 'drowning', 'dust storm', 'earthquake', 'electrocute',\n",
       "       'electrocuted', 'emergency', 'emergency plan',\n",
       "       'emergency services', 'engulfed', 'epicentre', 'evacuate',\n",
       "       'evacuated', 'evacuation', 'explode', 'exploded', 'explosion',\n",
       "       'eyewitness', 'famine', 'fatal', 'fatalities', 'fatality', 'fear',\n",
       "       'fire', 'fire truck', 'first responders', 'flames', 'flattened',\n",
       "       'flood', 'flooding', 'floods', 'forest fire', 'forest fires',\n",
       "       'hail', 'hailstorm', 'harm', 'hazard', 'hazardous', 'heat wave',\n",
       "       'hellfire', 'hijack', 'hijacker', 'hijacking', 'hostage',\n",
       "       'hostages', 'hurricane', 'injured', 'injuries', 'injury',\n",
       "       'inundated', 'inundation', 'landslide', 'lava', 'lightning',\n",
       "       'loud bang', 'mass murder', 'mass murderer', 'massacre', 'mayhem',\n",
       "       'meltdown', 'military', 'mudslide', 'natural disaster',\n",
       "       'nuclear disaster', 'nuclear reactor', 'obliterate', 'obliterated',\n",
       "       'obliteration', 'oil spill', 'outbreak', 'pandemonium', 'panic',\n",
       "       'panicking', 'police', 'quarantine', 'quarantined',\n",
       "       'radiation emergency', 'rainstorm', 'razed', 'refugees', 'rescue',\n",
       "       'rescued', 'rescuers', 'riot', 'rioting', 'rubble', 'ruin',\n",
       "       'sandstorm', 'screamed', 'screaming', 'screams', 'seismic',\n",
       "       'sinkhole', 'sinking', 'siren', 'sirens', 'smoke', 'snowstorm',\n",
       "       'storm', 'stretcher', 'structural failure', 'suicide bomb',\n",
       "       'suicide bomber', 'suicide bombing', 'sunk', 'survive', 'survived',\n",
       "       'survivors', 'terrorism', 'terrorist', 'threat', 'thunder',\n",
       "       'thunderstorm', 'tornado', 'tragedy', 'trapped', 'trauma',\n",
       "       'traumatised', 'trouble', 'tsunami', 'twister', 'typhoon',\n",
       "       'upheaval', 'violent storm', 'volcano', 'war zone', 'weapon',\n",
       "       'weapons', 'whirlwind', 'wild fires', 'wildfire', 'windstorm',\n",
       "       'wounded', 'wounds', 'wreck', 'wreckage', 'wrecked'], dtype=object)"
      ]
     },
     "execution_count": 18,
     "metadata": {},
     "output_type": "execute_result"
    }
   ],
   "source": [
    "dfk.kw_clean.unique()"
   ]
  },
  {
   "cell_type": "code",
   "execution_count": null,
   "metadata": {},
   "outputs": [],
   "source": []
  },
  {
   "cell_type": "raw",
   "metadata": {},
   "source": []
  },
  {
   "cell_type": "raw",
   "metadata": {},
   "source": []
  },
  {
   "cell_type": "code",
   "execution_count": 19,
   "metadata": {},
   "outputs": [],
   "source": [
    "keyword = pd.Series(dfk.kw_clean)"
   ]
  },
  {
   "cell_type": "code",
   "execution_count": 22,
   "metadata": {},
   "outputs": [
    {
     "data": {
      "text/plain": [
       "fatalities             45\n",
       "deluge                 42\n",
       "armageddon             42\n",
       "harm                   41\n",
       "body bags              41\n",
       "                       ..\n",
       "forest fire            19\n",
       "epicentre              12\n",
       "threat                 11\n",
       "inundation             10\n",
       "radiation emergency     9\n",
       "Name: kw_clean, Length: 221, dtype: int64"
      ]
     },
     "execution_count": 22,
     "metadata": {},
     "output_type": "execute_result"
    }
   ],
   "source": [
    "keyword.value_counts()"
   ]
  },
  {
   "cell_type": "code",
   "execution_count": 27,
   "metadata": {},
   "outputs": [
    {
     "data": {
      "text/html": [
       "<div>\n",
       "<style scoped>\n",
       "    .dataframe tbody tr th:only-of-type {\n",
       "        vertical-align: middle;\n",
       "    }\n",
       "\n",
       "    .dataframe tbody tr th {\n",
       "        vertical-align: top;\n",
       "    }\n",
       "\n",
       "    .dataframe thead th {\n",
       "        text-align: right;\n",
       "    }\n",
       "</style>\n",
       "<table border=\"1\" class=\"dataframe\">\n",
       "  <thead>\n",
       "    <tr style=\"text-align: right;\">\n",
       "      <th></th>\n",
       "      <th>id</th>\n",
       "      <th>keyword</th>\n",
       "      <th>text</th>\n",
       "      <th>target</th>\n",
       "      <th>kw_clean</th>\n",
       "    </tr>\n",
       "  </thead>\n",
       "  <tbody>\n",
       "    <tr>\n",
       "      <th>3583</th>\n",
       "      <td>5119</td>\n",
       "      <td>fatal</td>\n",
       "      <td>Investigators shift focus to cause of fatal Wa...</td>\n",
       "      <td>1</td>\n",
       "      <td>fatal</td>\n",
       "    </tr>\n",
       "    <tr>\n",
       "      <th>7490</th>\n",
       "      <td>10712</td>\n",
       "      <td>wreck</td>\n",
       "      <td>GOP debate drinking game. For anyone looking f...</td>\n",
       "      <td>0</td>\n",
       "      <td>wreck</td>\n",
       "    </tr>\n",
       "    <tr>\n",
       "      <th>1817</th>\n",
       "      <td>2611</td>\n",
       "      <td>crashed</td>\n",
       "      <td>@brianroemmele UX fail of EMV - people want to...</td>\n",
       "      <td>1</td>\n",
       "      <td>crashed</td>\n",
       "    </tr>\n",
       "    <tr>\n",
       "      <th>1856</th>\n",
       "      <td>2668</td>\n",
       "      <td>crush</td>\n",
       "      <td>Love love love do you remember your first crus...</td>\n",
       "      <td>0</td>\n",
       "      <td>crush</td>\n",
       "    </tr>\n",
       "    <tr>\n",
       "      <th>4852</th>\n",
       "      <td>6911</td>\n",
       "      <td>mass%20murderer</td>\n",
       "      <td>It's like God wants me to become a mass murder...</td>\n",
       "      <td>0</td>\n",
       "      <td>mass murderer</td>\n",
       "    </tr>\n",
       "    <tr>\n",
       "      <th>3794</th>\n",
       "      <td>5386</td>\n",
       "      <td>fire%20truck</td>\n",
       "      <td>133 N past  the 5 L lane is reopened. All othe...</td>\n",
       "      <td>1</td>\n",
       "      <td>fire truck</td>\n",
       "    </tr>\n",
       "    <tr>\n",
       "      <th>2797</th>\n",
       "      <td>4024</td>\n",
       "      <td>disaster</td>\n",
       "      <td>TV: Vitaly Churkin Briliantly Exposes the Hypo...</td>\n",
       "      <td>1</td>\n",
       "      <td>disaster</td>\n",
       "    </tr>\n",
       "    <tr>\n",
       "      <th>2119</th>\n",
       "      <td>3045</td>\n",
       "      <td>death</td>\n",
       "      <td>Y'all PUSSSSSSSSSY AND SHOOOK TO DEATH OF ME</td>\n",
       "      <td>0</td>\n",
       "      <td>death</td>\n",
       "    </tr>\n",
       "    <tr>\n",
       "      <th>5525</th>\n",
       "      <td>7881</td>\n",
       "      <td>quarantined</td>\n",
       "      <td>Alabama home quarantined over possible #Ebola ...</td>\n",
       "      <td>1</td>\n",
       "      <td>quarantined</td>\n",
       "    </tr>\n",
       "    <tr>\n",
       "      <th>2743</th>\n",
       "      <td>3945</td>\n",
       "      <td>devastated</td>\n",
       "      <td>Is Stuart Broad the Prime Minister yet. Best t...</td>\n",
       "      <td>0</td>\n",
       "      <td>devastated</td>\n",
       "    </tr>\n",
       "    <tr>\n",
       "      <th>6714</th>\n",
       "      <td>9616</td>\n",
       "      <td>thunderstorm</td>\n",
       "      <td>#usNWSgov Severe Weather Statement issued Augu...</td>\n",
       "      <td>1</td>\n",
       "      <td>thunderstorm</td>\n",
       "    </tr>\n",
       "    <tr>\n",
       "      <th>5140</th>\n",
       "      <td>7330</td>\n",
       "      <td>nuclear%20reactor</td>\n",
       "      <td>Finnish nuclear plant to move ahead after fina...</td>\n",
       "      <td>0</td>\n",
       "      <td>nuclear reactor</td>\n",
       "    </tr>\n",
       "  </tbody>\n",
       "</table>\n",
       "</div>"
      ],
      "text/plain": [
       "         id            keyword  \\\n",
       "3583   5119              fatal   \n",
       "7490  10712              wreck   \n",
       "1817   2611            crashed   \n",
       "1856   2668              crush   \n",
       "4852   6911    mass%20murderer   \n",
       "3794   5386       fire%20truck   \n",
       "2797   4024           disaster   \n",
       "2119   3045              death   \n",
       "5525   7881        quarantined   \n",
       "2743   3945         devastated   \n",
       "6714   9616       thunderstorm   \n",
       "5140   7330  nuclear%20reactor   \n",
       "\n",
       "                                                   text  target  \\\n",
       "3583  Investigators shift focus to cause of fatal Wa...       1   \n",
       "7490  GOP debate drinking game. For anyone looking f...       0   \n",
       "1817  @brianroemmele UX fail of EMV - people want to...       1   \n",
       "1856  Love love love do you remember your first crus...       0   \n",
       "4852  It's like God wants me to become a mass murder...       0   \n",
       "3794  133 N past  the 5 L lane is reopened. All othe...       1   \n",
       "2797  TV: Vitaly Churkin Briliantly Exposes the Hypo...       1   \n",
       "2119       Y'all PUSSSSSSSSSY AND SHOOOK TO DEATH OF ME       0   \n",
       "5525  Alabama home quarantined over possible #Ebola ...       1   \n",
       "2743  Is Stuart Broad the Prime Minister yet. Best t...       0   \n",
       "6714  #usNWSgov Severe Weather Statement issued Augu...       1   \n",
       "5140  Finnish nuclear plant to move ahead after fina...       0   \n",
       "\n",
       "             kw_clean  \n",
       "3583            fatal  \n",
       "7490            wreck  \n",
       "1817          crashed  \n",
       "1856            crush  \n",
       "4852    mass murderer  \n",
       "3794       fire truck  \n",
       "2797         disaster  \n",
       "2119            death  \n",
       "5525      quarantined  \n",
       "2743       devastated  \n",
       "6714     thunderstorm  \n",
       "5140  nuclear reactor  "
      ]
     },
     "execution_count": 27,
     "metadata": {},
     "output_type": "execute_result"
    }
   ],
   "source": [
    "dfk.sample(12)"
   ]
  },
  {
   "cell_type": "markdown",
   "metadata": {},
   "source": [
    "# Exkurs keyword ranking und cleaning"
   ]
  },
  {
   "cell_type": "code",
   "execution_count": 31,
   "metadata": {},
   "outputs": [
    {
     "data": {
      "text/html": [
       "<div>\n",
       "<style scoped>\n",
       "    .dataframe tbody tr th:only-of-type {\n",
       "        vertical-align: middle;\n",
       "    }\n",
       "\n",
       "    .dataframe tbody tr th {\n",
       "        vertical-align: top;\n",
       "    }\n",
       "\n",
       "    .dataframe thead th {\n",
       "        text-align: right;\n",
       "    }\n",
       "</style>\n",
       "<table border=\"1\" class=\"dataframe\">\n",
       "  <thead>\n",
       "    <tr style=\"text-align: right;\">\n",
       "      <th></th>\n",
       "      <th>kw_clean</th>\n",
       "    </tr>\n",
       "  </thead>\n",
       "  <tbody>\n",
       "    <tr>\n",
       "      <th>fatalities</th>\n",
       "      <td>45</td>\n",
       "    </tr>\n",
       "    <tr>\n",
       "      <th>deluge</th>\n",
       "      <td>42</td>\n",
       "    </tr>\n",
       "    <tr>\n",
       "      <th>armageddon</th>\n",
       "      <td>42</td>\n",
       "    </tr>\n",
       "  </tbody>\n",
       "</table>\n",
       "</div>"
      ],
      "text/plain": [
       "            kw_clean\n",
       "fatalities        45\n",
       "deluge            42\n",
       "armageddon        42"
      ]
     },
     "execution_count": 31,
     "metadata": {},
     "output_type": "execute_result"
    }
   ],
   "source": [
    "kw = pd.DataFrame(keyword.value_counts())\n",
    "kw_top = kw.nlargest(20, 'kw_clean')\n",
    "kw_top.head(3)"
   ]
  },
  {
   "cell_type": "code",
   "execution_count": 33,
   "metadata": {},
   "outputs": [
    {
     "data": {
      "text/plain": [
       "<matplotlib.axes._subplots.AxesSubplot at 0x7fbbe0553dc0>"
      ]
     },
     "execution_count": 33,
     "metadata": {},
     "output_type": "execute_result"
    },
    {
     "data": {
      "image/png": "[encoded data removed]",
      "text/plain": [
       "<Figure size 432x288 with 1 Axes>"
      ]
     },
     "metadata": {
      "needs_background": "light"
     },
     "output_type": "display_data"
    }
   ],
   "source": [
    "kw.boxplot('kw_clean')"
   ]
  },
  {
   "cell_type": "code",
   "execution_count": null,
   "metadata": {},
   "outputs": [],
   "source": [
    "#relativ geringe Streuung, Hälfte der Daten (Häufigkeit keyword) zw. 33 und 37, und etwa 95% der Daten zw. 27 und 43 \n",
    "#1,5*IQR vom Boxenrand mit IQR = 4\n",
    "kw.describe()"
   ]
  },
  {
   "cell_type": "code",
   "execution_count": 34,
   "metadata": {},
   "outputs": [
    {
     "data": {
      "text/html": [
       "<div>\n",
       "<style scoped>\n",
       "    .dataframe tbody tr th:only-of-type {\n",
       "        vertical-align: middle;\n",
       "    }\n",
       "\n",
       "    .dataframe tbody tr th {\n",
       "        vertical-align: top;\n",
       "    }\n",
       "\n",
       "    .dataframe thead th {\n",
       "        text-align: right;\n",
       "    }\n",
       "</style>\n",
       "<table border=\"1\" class=\"dataframe\">\n",
       "  <thead>\n",
       "    <tr style=\"text-align: right;\">\n",
       "      <th></th>\n",
       "      <th></th>\n",
       "      <th>id</th>\n",
       "      <th>keyword</th>\n",
       "      <th>text</th>\n",
       "    </tr>\n",
       "    <tr>\n",
       "      <th>kw_clean</th>\n",
       "      <th>target</th>\n",
       "      <th></th>\n",
       "      <th></th>\n",
       "      <th></th>\n",
       "    </tr>\n",
       "  </thead>\n",
       "  <tbody>\n",
       "    <tr>\n",
       "      <th rowspan=\"2\" valign=\"top\">ablaze</th>\n",
       "      <th>0</th>\n",
       "      <td>23</td>\n",
       "      <td>23</td>\n",
       "      <td>23</td>\n",
       "    </tr>\n",
       "    <tr>\n",
       "      <th>1</th>\n",
       "      <td>13</td>\n",
       "      <td>13</td>\n",
       "      <td>13</td>\n",
       "    </tr>\n",
       "    <tr>\n",
       "      <th rowspan=\"2\" valign=\"top\">accident</th>\n",
       "      <th>0</th>\n",
       "      <td>11</td>\n",
       "      <td>11</td>\n",
       "      <td>11</td>\n",
       "    </tr>\n",
       "    <tr>\n",
       "      <th>1</th>\n",
       "      <td>24</td>\n",
       "      <td>24</td>\n",
       "      <td>24</td>\n",
       "    </tr>\n",
       "    <tr>\n",
       "      <th>aftershock</th>\n",
       "      <th>0</th>\n",
       "      <td>34</td>\n",
       "      <td>34</td>\n",
       "      <td>34</td>\n",
       "    </tr>\n",
       "    <tr>\n",
       "      <th>...</th>\n",
       "      <th>...</th>\n",
       "      <td>...</td>\n",
       "      <td>...</td>\n",
       "      <td>...</td>\n",
       "    </tr>\n",
       "    <tr>\n",
       "      <th rowspan=\"2\" valign=\"top\">wreck</th>\n",
       "      <th>0</th>\n",
       "      <td>30</td>\n",
       "      <td>30</td>\n",
       "      <td>30</td>\n",
       "    </tr>\n",
       "    <tr>\n",
       "      <th>1</th>\n",
       "      <td>7</td>\n",
       "      <td>7</td>\n",
       "      <td>7</td>\n",
       "    </tr>\n",
       "    <tr>\n",
       "      <th>wreckage</th>\n",
       "      <th>1</th>\n",
       "      <td>39</td>\n",
       "      <td>39</td>\n",
       "      <td>39</td>\n",
       "    </tr>\n",
       "    <tr>\n",
       "      <th rowspan=\"2\" valign=\"top\">wrecked</th>\n",
       "      <th>0</th>\n",
       "      <td>36</td>\n",
       "      <td>36</td>\n",
       "      <td>36</td>\n",
       "    </tr>\n",
       "    <tr>\n",
       "      <th>1</th>\n",
       "      <td>3</td>\n",
       "      <td>3</td>\n",
       "      <td>3</td>\n",
       "    </tr>\n",
       "  </tbody>\n",
       "</table>\n",
       "<p>438 rows × 3 columns</p>\n",
       "</div>"
      ],
      "text/plain": [
       "                   id  keyword  text\n",
       "kw_clean   target                   \n",
       "ablaze     0       23       23    23\n",
       "           1       13       13    13\n",
       "accident   0       11       11    11\n",
       "           1       24       24    24\n",
       "aftershock 0       34       34    34\n",
       "...                ..      ...   ...\n",
       "wreck      0       30       30    30\n",
       "           1        7        7     7\n",
       "wreckage   1       39       39    39\n",
       "wrecked    0       36       36    36\n",
       "           1        3        3     3\n",
       "\n",
       "[438 rows x 3 columns]"
      ]
     },
     "execution_count": 34,
     "metadata": {},
     "output_type": "execute_result"
    }
   ],
   "source": [
    "dfk.groupby(['kw_clean', 'target']).count()"
   ]
  },
  {
   "cell_type": "code",
   "execution_count": null,
   "metadata": {},
   "outputs": [],
   "source": []
  },
  {
   "cell_type": "code",
   "execution_count": 35,
   "metadata": {},
   "outputs": [
    {
     "data": {
      "text/plain": [
       "0    4323\n",
       "1    3229\n",
       "Name: target, dtype: int64"
      ]
     },
     "execution_count": 35,
     "metadata": {},
     "output_type": "execute_result"
    }
   ],
   "source": [
    "df_target = dfk.target.value_counts() #relativ balanciert, rd 43% (3229) = fire = 1 \n",
    "df_target\n",
    "\n"
   ]
  },
  {
   "cell_type": "code",
   "execution_count": 36,
   "metadata": {},
   "outputs": [
    {
     "data": {
      "text/plain": [
       "<matplotlib.axes._subplots.AxesSubplot at 0x7fbbe04d16a0>"
      ]
     },
     "execution_count": 36,
     "metadata": {},
     "output_type": "execute_result"
    },
    {
     "data": {
      "image/png": "[encoded data removed]",
      "text/plain": [
       "<Figure size 432x288 with 1 Axes>"
      ]
     },
     "metadata": {},
     "output_type": "display_data"
    }
   ],
   "source": [
    "df_target.plot(kind = 'pie')"
   ]
  },
  {
   "cell_type": "code",
   "execution_count": null,
   "metadata": {
    "scrolled": true
   },
   "outputs": [],
   "source": []
  },
  {
   "cell_type": "code",
   "execution_count": 42,
   "metadata": {},
   "outputs": [],
   "source": [
    "from sklearn.model_selection import train_test_split\n",
    "from sklearn.model_selection import cross_val_score\n",
    "\n",
    "from sklearn.metrics import confusion_matrix\n",
    "from sklearn.metrics import plot_confusion_matrix\n",
    "from sklearn.metrics import accuracy_score\n",
    "from sklearn.metrics import f1_score\n",
    "\n",
    "X_train, X_test, y_train, y_test =  train_test_split(dfk.kw_clean, dfk.target, test_size = 0.33, random_state=42)\n"
   ]
  },
  {
   "cell_type": "code",
   "execution_count": 38,
   "metadata": {},
   "outputs": [
    {
     "data": {
      "text/plain": [
       "(5059,)"
      ]
     },
     "execution_count": 38,
     "metadata": {},
     "output_type": "execute_result"
    }
   ],
   "source": [
    "X_train.shape"
   ]
  },
  {
   "cell_type": "code",
   "execution_count": 60,
   "metadata": {},
   "outputs": [
    {
     "data": {
      "text/plain": [
       "(2493,)"
      ]
     },
     "execution_count": 60,
     "metadata": {},
     "output_type": "execute_result"
    }
   ],
   "source": [
    "y_test.shape"
   ]
  },
  {
   "cell_type": "raw",
   "metadata": {},
   "source": []
  },
  {
   "cell_type": "code",
   "execution_count": 73,
   "metadata": {},
   "outputs": [
    {
     "name": "stdout",
     "output_type": "stream",
     "text": [
      "acc_score_lr = 0.7264340152426795\n",
      "f1_score_lr = 0.6813084112149533\n"
     ]
    },
    {
     "data": {
      "image/png": "[encoded data removed]",
      "text/plain": [
       "<Figure size 432x288 with 2 Axes>"
      ]
     },
     "metadata": {
      "needs_background": "light"
     },
     "output_type": "display_data"
    }
   ],
   "source": [
    "#one hot encoding der keywords ... get dummies\n",
    "\n",
    "X_train_d = pd.get_dummies(X_train)\n",
    "\n",
    "X_test_d = pd.get_dummies(X_test)\n",
    "\n",
    "\n",
    "lr = LogisticRegression()\n",
    "\n",
    "lr.fit(X_train_d, y_train)\n",
    "\n",
    "y_pred_lr = lr.predict(X_test_d)\n",
    "\n",
    "acc_score_lr = accuracy_score(y_test, y_pred_lr, normalize=True, sample_weight=None)\n",
    "\n",
    "f1_score_lr = f1_score(y_test, y_pred_lr, average='binary')\n",
    "\n",
    "print(f'acc_score_lr = {acc_score_lr}')\n",
    "print(f'f1_score_lr = {f1_score_lr}')\n",
    "\n",
    "\n",
    "plot_confusion_matrix(lr, X_test_d, y_test) \n",
    "\n",
    "plt.show()  \n",
    "\n",
    "#score und confusion matrix based on 2493 test data\n",
    "#acc_score_lr = 0.7264340152426795  mit keyword  id. zu kw_clean  (221 nunique)"
   ]
  },
  {
   "cell_type": "code",
   "execution_count": null,
   "metadata": {},
   "outputs": [],
   "source": [
    "#may try alternative classifiers"
   ]
  },
  {
   "cell_type": "code",
   "execution_count": 46,
   "metadata": {},
   "outputs": [
    {
     "name": "stdout",
     "output_type": "stream",
     "text": [
      "acc_score_knc = 0.7188126754913758\n",
      "f1_score_knc = 0.6685579196217494\n"
     ]
    },
    {
     "data": {
      "image/png": "[encoded data removed]",
      "text/plain": [
       "<Figure size 432x288 with 2 Axes>"
      ]
     },
     "metadata": {
      "needs_background": "light"
     },
     "output_type": "display_data"
    }
   ],
   "source": [
    "knc = KNeighborsClassifier()\n",
    "\n",
    "knc.fit(X_train_d, y_train)\n",
    "\n",
    "y_pred_knc = knc.predict(X_test_d)\n",
    "\n",
    "acc_score_knc = accuracy_score(y_test, y_pred_knc, normalize=True, sample_weight=None)\n",
    "f1_score_knc = f1_score(y_test, y_pred_knc)\n",
    "\n",
    "print(f'acc_score_knc = {acc_score_knc}')\n",
    "print(f'f1_score_knc = {f1_score_knc}')\n",
    "\n",
    "plot_confusion_matrix(knc, X_test_d, y_test) \n",
    "\n",
    "plt.show()  \n",
    "\n",
    "#KNeighbors etwas schlechtere Performance"
   ]
  },
  {
   "cell_type": "code",
   "execution_count": 48,
   "metadata": {},
   "outputs": [
    {
     "name": "stdout",
     "output_type": "stream",
     "text": [
      "Index(['debris', 'derailment', 'oil spill', 'typhoon', 'wreckage'], dtype='object')\n",
      "Index(['debris', 'derailment', 'nuclear disaster', 'oil spill', 'outbreak',\n",
      "       'rescuers', 'suicide bomber', 'suicide bombing', 'typhoon', 'wreckage'],\n",
      "      dtype='object')\n",
      "Index(['aftershock', 'avalanche', 'blazing', 'bleeding', 'blew up', 'blight',\n",
      "       'body bag', 'body bags', 'bombing', 'bridge collapse',\n",
      "       'buildings on fire', 'casualties', 'collision', 'crushed', 'debris',\n",
      "       'derailment', 'devastation', 'drown', 'electrocute', 'evacuated',\n",
      "       'explode', 'fear', 'flattened', 'floods', 'forest fire', 'forest fires',\n",
      "       'hailstorm', 'hazardous', 'hellfire', 'inundated', 'lava', 'mudslide',\n",
      "       'nuclear disaster', 'oil spill', 'outbreak', 'panic', 'quarantine',\n",
      "       'razed', 'rescuers', 'screaming', 'stretcher', 'suicide bomb',\n",
      "       'suicide bomber', 'suicide bombing', 'terrorist', 'traumatised',\n",
      "       'typhoon', 'violent storm', 'wild fires', 'wreckage'],\n",
      "      dtype='object')\n",
      "<class 'list'>\n"
     ]
    }
   ],
   "source": [
    "#may try k best selection of variables = keywords  /  input for logistic regression\n",
    "from sklearn.feature_selection import SelectKBest, chi2\n",
    "\n",
    "\n",
    "chi2_5 = SelectKBest(chi2, k=5)\n",
    "X_train_5 = chi2_5.fit_transform(X_train_d, y_train)\n",
    "X_test_5 = chi2_5.fit_transform(X_test_d, y_test)\n",
    "\n",
    "#erhalte top 5 column names\n",
    "col_names_5 = X_train_d.columns[chi2_5.get_support()]\n",
    "print(col_names_5)\n",
    "\n",
    "chi2_10 = SelectKBest(chi2, k=10)\n",
    "X_train_10 = chi2_10.fit_transform(X_train_d, y_train)\n",
    "X_test_10 = chi2_10.fit_transform(X_test_d, y_test)\n",
    "\n",
    "\n",
    "#erhalte top 10 column names\n",
    "col_names_10 = X_train_d.columns[chi2_10.get_support()]\n",
    "print(col_names_10)\n",
    "\n",
    "\n",
    "chi2_50 = SelectKBest(chi2, k=50)\n",
    "X_train_50 = chi2_50.fit_transform(X_train_d, y_train)\n",
    "X_test_50 = chi2_50.fit_transform(X_test_d, y_test)\n",
    "\n",
    "#erhalte die top 50 column names\n",
    "col_names_50 = X_train_d.columns[chi2_50.get_support()]\n",
    "print(col_names_50)\n",
    "\n",
    "\n",
    "chi2_200 = SelectKBest(chi2, k=200)\n",
    "X_train_200 = chi2_200.fit_transform(X_train_d, y_train)\n",
    "X_test_200 = chi2_200.fit_transform(X_test_d, y_test)\n",
    "\n",
    "#erhalte die top 200 column names\n",
    "col_names_200 = X_train_d.columns[chi2_200.get_support()]\n",
    "\n",
    "print(type(list(col_names_200)))\n",
    "      \n",
    "#print(len(col_names_200))\n",
    "\n",
    "\n",
    "chi2_221 = SelectKBest(chi2, k=221)\n",
    "X_train_221 = chi2_221.fit_transform(X_train_d, y_train)\n",
    "X_test_221 = chi2_221.fit_transform(X_test_d, y_test)\n",
    "\n",
    "#die 5, 10, 50 'top features = keywords"
   ]
  },
  {
   "cell_type": "code",
   "execution_count": 49,
   "metadata": {},
   "outputs": [
    {
     "name": "stdout",
     "output_type": "stream",
     "text": [
      "acc_score_lr5 = 0.6012835940633775\n",
      "f1_score_lr5 = 0.11249999999999999\n"
     ]
    },
    {
     "data": {
      "image/png": "[encoded data removed]",
      "text/plain": [
       "<Figure size 432x288 with 2 Axes>"
      ]
     },
     "metadata": {
      "needs_background": "light"
     },
     "output_type": "display_data"
    }
   ],
   "source": [
    "#try selected 5 best features = keywords\n",
    "\n",
    "lr.fit(X_train_5, y_train)\n",
    "\n",
    "y_pred_lr5 = lr.predict(X_test_5)\n",
    "\n",
    "acc_score_lr5 = accuracy_score(y_test, y_pred_lr5, normalize=True, sample_weight=None)\n",
    "f1_score_lr5 = f1_score(y_test, y_pred_lr5)\n",
    "\n",
    "print(f'acc_score_lr5 = {acc_score_lr5}')\n",
    "print(f'f1_score_lr5 = {f1_score_lr5}')\n",
    "\n",
    "plot_confusion_matrix(lr, X_test_5, y_test) \n",
    "\n",
    "plt.show()  \n",
    "\n",
    "#score und confusion matrix based on 2493 test data\n",
    "#ACHTUNG: very unbalanced confusion matrix when using only (small) subset of keywords\n",
    "#no false positive (fälschlicherweise 1 = Feuer), aber sehr hohe Zahl false negative, fälschlicherweise 0)"
   ]
  },
  {
   "cell_type": "code",
   "execution_count": 50,
   "metadata": {},
   "outputs": [
    {
     "name": "stdout",
     "output_type": "stream",
     "text": [
      "acc_score_lr10 = 0.6241476133172884\n",
      "f1_score_lr10 = 0.20794590025359258\n"
     ]
    },
    {
     "data": {
      "image/png": "[encoded data removed]",
      "text/plain": [
       "<Figure size 432x288 with 2 Axes>"
      ]
     },
     "metadata": {
      "needs_background": "light"
     },
     "output_type": "display_data"
    }
   ],
   "source": [
    "#try selected 10 best features = keywords\n",
    "\n",
    "lr.fit(X_train_10, y_train)\n",
    "\n",
    "y_pred_lr10 = lr.predict(X_test_10)\n",
    "\n",
    "acc_score_lr10 = accuracy_score(y_test, y_pred_lr10, normalize=True, sample_weight=None)\n",
    "f1_score_lr10 = f1_score(y_test, y_pred_lr10)\n",
    "\n",
    "print(f'acc_score_lr10 = {acc_score_lr10}')\n",
    "print(f'f1_score_lr10 = {f1_score_lr10}')\n",
    "\n",
    "plot_confusion_matrix(lr, X_test_10, y_test) \n",
    "\n",
    "plt.show()  \n",
    "\n",
    "#score und confusion matrix based on 2493 test data\n",
    "#ACHTUNG: very unbalanced confusion matrix when using only (small) subset of keywords\n",
    "#only 3 false positive (fälschlicherweise 1 = Feuer), aber sehr hohe Zahl false negative, fälschlicherweise 0)"
   ]
  },
  {
   "cell_type": "code",
   "execution_count": 51,
   "metadata": {},
   "outputs": [
    {
     "name": "stdout",
     "output_type": "stream",
     "text": [
      "acc_score_lr50 = 0.5836341756919374\n",
      "f1_score_lr50 = 0.25644699140401145\n"
     ]
    },
    {
     "data": {
      "image/png": "[encoded data removed]",
      "text/plain": [
       "<Figure size 432x288 with 2 Axes>"
      ]
     },
     "metadata": {
      "needs_background": "light"
     },
     "output_type": "display_data"
    }
   ],
   "source": [
    "#try selected 50 best features = keywords\n",
    "\n",
    "lr.fit(X_train_50, y_train)\n",
    "\n",
    "y_pred_lr50 = lr.predict(X_test_50)\n",
    "\n",
    "acc_score_lr50 = accuracy_score(y_test, y_pred_lr50, normalize=True, sample_weight=None)\n",
    "f1_score_lr50 = f1_score(y_test, y_pred_lr50)\n",
    "\n",
    "print(f'acc_score_lr50 = {acc_score_lr50}')\n",
    "print(f'f1_score_lr50 = {f1_score_lr50}')\n",
    "\n",
    "plot_confusion_matrix(lr, X_test_50, y_test) \n",
    "\n",
    "plt.show()  \n",
    "\n",
    "#score und confusion matrix based on 2493 test data"
   ]
  },
  {
   "cell_type": "code",
   "execution_count": 52,
   "metadata": {},
   "outputs": [
    {
     "name": "stdout",
     "output_type": "stream",
     "text": [
      "acc_score_lr200 = 0.6141195346971521\n",
      "f1_score_lr200 = 0.5414680648236415\n"
     ]
    },
    {
     "data": {
      "image/png": "[encoded data removed]",
      "text/plain": [
       "<Figure size 432x288 with 2 Axes>"
      ]
     },
     "metadata": {
      "needs_background": "light"
     },
     "output_type": "display_data"
    }
   ],
   "source": [
    "#try selected 200 best features = keywords\n",
    "\n",
    "lr.fit(X_train_200, y_train)\n",
    "\n",
    "y_pred_lr200 = lr.predict(X_test_200)\n",
    "\n",
    "acc_score_lr200 = accuracy_score(y_test, y_pred_lr200, normalize=True, sample_weight=None)\n",
    "f1_score_lr200 = f1_score(y_test, y_pred_lr200)\n",
    "\n",
    "print(f'acc_score_lr200 = {acc_score_lr200}')\n",
    "print(f'f1_score_lr200 = {f1_score_lr200}')\n",
    "\n",
    "plot_confusion_matrix(lr, X_test_200, y_test) \n",
    "\n",
    "plt.show()  \n",
    "\n",
    "#score und confusion matrix based on 2493 test data"
   ]
  },
  {
   "cell_type": "code",
   "execution_count": null,
   "metadata": {},
   "outputs": [],
   "source": [
    "#quercheck mit allen 221 (selected best) features = keywords passed\n",
    "\n",
    "lr.fit(X_train_221, y_train)\n",
    "\n",
    "y_pred_lr221 = lr.predict(X_test_221)\n",
    "\n",
    "acc_score_lr221 = accuracy_score(y_test, y_pred_lr221, normalize=True, sample_weight=None)\n",
    "\n",
    "print(f'acc_score_lr221 = {acc_score_lr221}')\n",
    "\n",
    "plot_confusion_matrix(lr, X_test_221, y_test) \n",
    "\n",
    "plt.show()  \n",
    "\n",
    "#score und confusion matrix based on 2493 test data"
   ]
  },
  {
   "cell_type": "code",
   "execution_count": null,
   "metadata": {},
   "outputs": [],
   "source": []
  }
 ],
 "metadata": {
  "kernelspec": {
   "display_name": "Python 3",
   "language": "python",
   "name": "python3"
  },
  "language_info": {
   "codemirror_mode": {
    "name": "ipython",
    "version": 3
   },
   "file_extension": ".py",
   "mimetype": "text/x-python",
   "name": "python",
   "nbconvert_exporter": "python",
   "pygments_lexer": "ipython3",
   "version": "3.8.3"
  }
 },
 "nbformat": 4,
 "nbformat_minor": 4
}
