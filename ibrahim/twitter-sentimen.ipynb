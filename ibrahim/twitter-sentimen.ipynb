{
  "nbformat": 4,
  "nbformat_minor": 0,
  "metadata": {
    "kernelspec": {
      "display_name": "Python 3",
      "language": "python",
      "name": "python3"
    },
    "language_info": {
      "codemirror_mode": {
        "name": "ipython",
        "version": 3
      },
      "file_extension": ".py",
      "mimetype": "text/x-python",
      "name": "python",
      "nbconvert_exporter": "python",
      "pygments_lexer": "ipython3",
      "version": "3.7.6"
    },
    "colab": {
      "name": "twitter-sentimen.ipynb",
      "provenance": []
    }
  },
  "cells": [
    {
      "cell_type": "code",
      "metadata": {
        "id": "36mNlffDGhid",
        "outputId": "354c4c5a-756a-4a40-b58f-88c5950a0e13",
        "colab": {
          "base_uri": "https://localhost:8080/",
          "height": 272
        }
      },
      "source": [
        "import pandas as pd\n",
        "data = pd.read_csv('https://raw.githubusercontent.com/yaedin/twitter-disaster/main/raw/disaster_tweets.csv')\n",
        "print(data.info())\n",
        "print('----------------')\n",
        "print(f\"target column unique = {data.target.unique()}\")"
      ],
      "execution_count": 23,
      "outputs": [
        {
          "output_type": "stream",
          "text": [
            "<class 'pandas.core.frame.DataFrame'>\n",
            "RangeIndex: 7613 entries, 0 to 7612\n",
            "Data columns (total 5 columns):\n",
            " #   Column    Non-Null Count  Dtype \n",
            "---  ------    --------------  ----- \n",
            " 0   id        7613 non-null   int64 \n",
            " 1   keyword   7552 non-null   object\n",
            " 2   location  5080 non-null   object\n",
            " 3   text      7613 non-null   object\n",
            " 4   target    7613 non-null   int64 \n",
            "dtypes: int64(2), object(3)\n",
            "memory usage: 297.5+ KB\n",
            "None\n",
            "----------------\n",
            "target column unique = [1 0]\n"
          ],
          "name": "stdout"
        }
      ]
    },
    {
      "cell_type": "code",
      "metadata": {
        "id": "4vbv6lQYGhii"
      },
      "source": [
        "from sklearn.model_selection import train_test_split\n",
        "train, test = train_test_split(data, test_size=0.2)"
      ],
      "execution_count": 24,
      "outputs": []
    },
    {
      "cell_type": "code",
      "metadata": {
        "id": "HdNLz0JAGhil",
        "outputId": "8e52544d-30d1-41ef-b210-c7a26adcafc2",
        "colab": {
          "base_uri": "https://localhost:8080/",
          "height": 578
        }
      },
      "source": [
        "train.drop('id', axis=1, inplace=True)\n",
        "train.drop('keyword', axis=1, inplace=True)\n",
        "train.drop('location', axis=1, inplace=True)\n",
        "test.drop('id', axis=1, inplace=True)\n",
        "test.drop('keyword', axis=1, inplace=True)\n",
        "test.drop('location', axis=1, inplace=True)\n",
        "\n",
        "print(train.info())\n",
        "print(test.info())\n",
        "print(\"train df:\")\n",
        "print(train['target'].value_counts(normalize=True) * 100)\n",
        "print(\"test df:\")\n",
        "print(test['target'].value_counts(normalize=True) * 100)"
      ],
      "execution_count": 25,
      "outputs": [
        {
          "output_type": "stream",
          "text": [
            "<class 'pandas.core.frame.DataFrame'>\n",
            "Int64Index: 6090 entries, 3055 to 7000\n",
            "Data columns (total 2 columns):\n",
            " #   Column  Non-Null Count  Dtype \n",
            "---  ------  --------------  ----- \n",
            " 0   text    6090 non-null   object\n",
            " 1   target  6090 non-null   int64 \n",
            "dtypes: int64(1), object(1)\n",
            "memory usage: 142.7+ KB\n",
            "None\n",
            "<class 'pandas.core.frame.DataFrame'>\n",
            "Int64Index: 1523 entries, 6826 to 2687\n",
            "Data columns (total 2 columns):\n",
            " #   Column  Non-Null Count  Dtype \n",
            "---  ------  --------------  ----- \n",
            " 0   text    1523 non-null   object\n",
            " 1   target  1523 non-null   int64 \n",
            "dtypes: int64(1), object(1)\n",
            "memory usage: 35.7+ KB\n",
            "None\n",
            "train df:\n",
            "0    56.945813\n",
            "1    43.054187\n",
            "Name: target, dtype: float64\n",
            "test df:\n",
            "0    57.386737\n",
            "1    42.613263\n",
            "Name: target, dtype: float64\n"
          ],
          "name": "stdout"
        },
        {
          "output_type": "stream",
          "text": [
            "/usr/local/lib/python3.6/dist-packages/pandas/core/frame.py:4169: SettingWithCopyWarning: \n",
            "A value is trying to be set on a copy of a slice from a DataFrame\n",
            "\n",
            "See the caveats in the documentation: https://pandas.pydata.org/pandas-docs/stable/user_guide/indexing.html#returning-a-view-versus-a-copy\n",
            "  errors=errors,\n"
          ],
          "name": "stderr"
        }
      ]
    },
    {
      "cell_type": "code",
      "metadata": {
        "id": "dI_UzjWsGhio",
        "outputId": "ddf3b2a2-b0b5-4581-9ce0-e573a628ad7b",
        "colab": {
          "base_uri": "https://localhost:8080/",
          "height": 306
        }
      },
      "source": [
        "def clean_text(text):\n",
        "  # get rid of all unwanted punctuation and digits\n",
        "  text = text.replace(\"´\", \"'\")\n",
        "  digi_punct = \"[^a-zA-Z' ]\"\n",
        "  text = re.sub(digi_punct, \" \", text)\n",
        "  text = \" \".join(text.split())\n",
        "  text = text.lower()\n",
        "  return text\n",
        "import re\n",
        "train[\"text_clean\"] = train[\"text\"].apply(clean_text)\n",
        "display(train.head())"
      ],
      "execution_count": 26,
      "outputs": [
        {
          "output_type": "stream",
          "text": [
            "/usr/local/lib/python3.6/dist-packages/ipykernel_launcher.py:10: SettingWithCopyWarning: \n",
            "A value is trying to be set on a copy of a slice from a DataFrame.\n",
            "Try using .loc[row_indexer,col_indexer] = value instead\n",
            "\n",
            "See the caveats in the documentation: https://pandas.pydata.org/pandas-docs/stable/user_guide/indexing.html#returning-a-view-versus-a-copy\n",
            "  # Remove the CWD from sys.path while we load stuff.\n"
          ],
          "name": "stderr"
        },
        {
          "output_type": "display_data",
          "data": {
            "text/html": [
              "<div>\n",
              "<style scoped>\n",
              "    .dataframe tbody tr th:only-of-type {\n",
              "        vertical-align: middle;\n",
              "    }\n",
              "\n",
              "    .dataframe tbody tr th {\n",
              "        vertical-align: top;\n",
              "    }\n",
              "\n",
              "    .dataframe thead th {\n",
              "        text-align: right;\n",
              "    }\n",
              "</style>\n",
              "<table border=\"1\" class=\"dataframe\">\n",
              "  <thead>\n",
              "    <tr style=\"text-align: right;\">\n",
              "      <th></th>\n",
              "      <th>text</th>\n",
              "      <th>target</th>\n",
              "      <th>text_clean</th>\n",
              "    </tr>\n",
              "  </thead>\n",
              "  <tbody>\n",
              "    <tr>\n",
              "      <th>3055</th>\n",
              "      <td>There has not been 1 real tear out of #Shelli ...</td>\n",
              "      <td>0</td>\n",
              "      <td>there has not been real tear out of shelli 's ...</td>\n",
              "    </tr>\n",
              "    <tr>\n",
              "      <th>3616</th>\n",
              "      <td>EXCLUSIVE: In 179 fatalities involving on-duty...</td>\n",
              "      <td>1</td>\n",
              "      <td>exclusive in fatalities involving on duty nypd...</td>\n",
              "    </tr>\n",
              "    <tr>\n",
              "      <th>2265</th>\n",
              "      <td>@valdes1978 forgive me if I was a bit testy. H...</td>\n",
              "      <td>0</td>\n",
              "      <td>valdes forgive me if i was a bit testy have be...</td>\n",
              "    </tr>\n",
              "    <tr>\n",
              "      <th>1233</th>\n",
              "      <td>Video:  Fire burns two apartment buildings and...</td>\n",
              "      <td>1</td>\n",
              "      <td>video fire burns two apartment buildings and b...</td>\n",
              "    </tr>\n",
              "    <tr>\n",
              "      <th>1079</th>\n",
              "      <td>When you get a bomb ass picture mail ????????</td>\n",
              "      <td>0</td>\n",
              "      <td>when you get a bomb ass picture mail</td>\n",
              "    </tr>\n",
              "  </tbody>\n",
              "</table>\n",
              "</div>"
            ],
            "text/plain": [
              "                                                   text  ...                                         text_clean\n",
              "3055  There has not been 1 real tear out of #Shelli ...  ...  there has not been real tear out of shelli 's ...\n",
              "3616  EXCLUSIVE: In 179 fatalities involving on-duty...  ...  exclusive in fatalities involving on duty nypd...\n",
              "2265  @valdes1978 forgive me if I was a bit testy. H...  ...  valdes forgive me if i was a bit testy have be...\n",
              "1233  Video:  Fire burns two apartment buildings and...  ...  video fire burns two apartment buildings and b...\n",
              "1079      When you get a bomb ass picture mail ????????  ...               when you get a bomb ass picture mail\n",
              "\n",
              "[5 rows x 3 columns]"
            ]
          },
          "metadata": {
            "tags": []
          }
        }
      ]
    },
    {
      "cell_type": "code",
      "metadata": {
        "id": "YpIY7uATGhir",
        "outputId": "92814ce3-3e88-4b76-d708-859e6f4f4727",
        "colab": {
          "base_uri": "https://localhost:8080/",
          "height": 340
        }
      },
      "source": [
        "import nltk\n",
        "nltk.download('stopwords')\n",
        "from nltk.corpus import stopwords\n",
        "my_stopwords = stopwords.words(\"english\")\n",
        "train[\"wo_stopwords\"] = train[\"text\"].apply(\n",
        "    lambda text: \" \".join([word for word in text.split() if word not in my_stopwords])\n",
        ")\n",
        "train.head()"
      ],
      "execution_count": 27,
      "outputs": [
        {
          "output_type": "stream",
          "text": [
            "[nltk_data] Downloading package stopwords to /root/nltk_data...\n",
            "[nltk_data]   Package stopwords is already up-to-date!\n"
          ],
          "name": "stdout"
        },
        {
          "output_type": "stream",
          "text": [
            "/usr/local/lib/python3.6/dist-packages/ipykernel_launcher.py:6: SettingWithCopyWarning: \n",
            "A value is trying to be set on a copy of a slice from a DataFrame.\n",
            "Try using .loc[row_indexer,col_indexer] = value instead\n",
            "\n",
            "See the caveats in the documentation: https://pandas.pydata.org/pandas-docs/stable/user_guide/indexing.html#returning-a-view-versus-a-copy\n",
            "  \n"
          ],
          "name": "stderr"
        },
        {
          "output_type": "execute_result",
          "data": {
            "text/html": [
              "<div>\n",
              "<style scoped>\n",
              "    .dataframe tbody tr th:only-of-type {\n",
              "        vertical-align: middle;\n",
              "    }\n",
              "\n",
              "    .dataframe tbody tr th {\n",
              "        vertical-align: top;\n",
              "    }\n",
              "\n",
              "    .dataframe thead th {\n",
              "        text-align: right;\n",
              "    }\n",
              "</style>\n",
              "<table border=\"1\" class=\"dataframe\">\n",
              "  <thead>\n",
              "    <tr style=\"text-align: right;\">\n",
              "      <th></th>\n",
              "      <th>text</th>\n",
              "      <th>target</th>\n",
              "      <th>text_clean</th>\n",
              "      <th>wo_stopwords</th>\n",
              "    </tr>\n",
              "  </thead>\n",
              "  <tbody>\n",
              "    <tr>\n",
              "      <th>3055</th>\n",
              "      <td>There has not been 1 real tear out of #Shelli ...</td>\n",
              "      <td>0</td>\n",
              "      <td>there has not been real tear out of shelli 's ...</td>\n",
              "      <td>There 1 real tear #Shelli 's eyes entire episo...</td>\n",
              "    </tr>\n",
              "    <tr>\n",
              "      <th>3616</th>\n",
              "      <td>EXCLUSIVE: In 179 fatalities involving on-duty...</td>\n",
              "      <td>1</td>\n",
              "      <td>exclusive in fatalities involving on duty nypd...</td>\n",
              "      <td>EXCLUSIVE: In 179 fatalities involving on-duty...</td>\n",
              "    </tr>\n",
              "    <tr>\n",
              "      <th>2265</th>\n",
              "      <td>@valdes1978 forgive me if I was a bit testy. H...</td>\n",
              "      <td>0</td>\n",
              "      <td>valdes forgive me if i was a bit testy have be...</td>\n",
              "      <td>@valdes1978 forgive I bit testy. Have deluged ...</td>\n",
              "    </tr>\n",
              "    <tr>\n",
              "      <th>1233</th>\n",
              "      <td>Video:  Fire burns two apartment buildings and...</td>\n",
              "      <td>1</td>\n",
              "      <td>video fire burns two apartment buildings and b...</td>\n",
              "      <td>Video: Fire burns two apartment buildings blow...</td>\n",
              "    </tr>\n",
              "    <tr>\n",
              "      <th>1079</th>\n",
              "      <td>When you get a bomb ass picture mail ????????</td>\n",
              "      <td>0</td>\n",
              "      <td>when you get a bomb ass picture mail</td>\n",
              "      <td>When get bomb ass picture mail ????????</td>\n",
              "    </tr>\n",
              "  </tbody>\n",
              "</table>\n",
              "</div>"
            ],
            "text/plain": [
              "                                                   text  ...                                       wo_stopwords\n",
              "3055  There has not been 1 real tear out of #Shelli ...  ...  There 1 real tear #Shelli 's eyes entire episo...\n",
              "3616  EXCLUSIVE: In 179 fatalities involving on-duty...  ...  EXCLUSIVE: In 179 fatalities involving on-duty...\n",
              "2265  @valdes1978 forgive me if I was a bit testy. H...  ...  @valdes1978 forgive I bit testy. Have deluged ...\n",
              "1233  Video:  Fire burns two apartment buildings and...  ...  Video: Fire burns two apartment buildings blow...\n",
              "1079      When you get a bomb ass picture mail ????????  ...            When get bomb ass picture mail ????????\n",
              "\n",
              "[5 rows x 4 columns]"
            ]
          },
          "metadata": {
            "tags": []
          },
          "execution_count": 27
        }
      ]
    },
    {
      "cell_type": "code",
      "metadata": {
        "id": "dtAGCcIeGhiu",
        "outputId": "091a199e-c508-4ee9-d332-3cc744e6f76e",
        "colab": {
          "base_uri": "https://localhost:8080/",
          "height": 153
        }
      },
      "source": [
        "from nltk.stem import WordNetLemmatizer\n",
        "nltk.download('wordnet')\n",
        "lemmatizer = WordNetLemmatizer()\n",
        "train[\"lemmatized\"] = train[\"wo_stopwords\"].apply(\n",
        "  lambda text: \" \".join([lemmatizer.lemmatize(word) for word in text.split()])\n",
        ")"
      ],
      "execution_count": 28,
      "outputs": [
        {
          "output_type": "stream",
          "text": [
            "[nltk_data] Downloading package wordnet to /root/nltk_data...\n",
            "[nltk_data]   Package wordnet is already up-to-date!\n"
          ],
          "name": "stdout"
        },
        {
          "output_type": "stream",
          "text": [
            "/usr/local/lib/python3.6/dist-packages/ipykernel_launcher.py:5: SettingWithCopyWarning: \n",
            "A value is trying to be set on a copy of a slice from a DataFrame.\n",
            "Try using .loc[row_indexer,col_indexer] = value instead\n",
            "\n",
            "See the caveats in the documentation: https://pandas.pydata.org/pandas-docs/stable/user_guide/indexing.html#returning-a-view-versus-a-copy\n",
            "  \"\"\"\n"
          ],
          "name": "stderr"
        }
      ]
    },
    {
      "cell_type": "code",
      "metadata": {
        "id": "BoHSSsmJGhiw",
        "outputId": "adc5fc5a-fa1b-4b62-d267-9d114c517d2b",
        "colab": {
          "base_uri": "https://localhost:8080/",
          "height": 204
        }
      },
      "source": [
        "test.head()"
      ],
      "execution_count": 29,
      "outputs": [
        {
          "output_type": "execute_result",
          "data": {
            "text/html": [
              "<div>\n",
              "<style scoped>\n",
              "    .dataframe tbody tr th:only-of-type {\n",
              "        vertical-align: middle;\n",
              "    }\n",
              "\n",
              "    .dataframe tbody tr th {\n",
              "        vertical-align: top;\n",
              "    }\n",
              "\n",
              "    .dataframe thead th {\n",
              "        text-align: right;\n",
              "    }\n",
              "</style>\n",
              "<table border=\"1\" class=\"dataframe\">\n",
              "  <thead>\n",
              "    <tr style=\"text-align: right;\">\n",
              "      <th></th>\n",
              "      <th>text</th>\n",
              "      <th>target</th>\n",
              "    </tr>\n",
              "  </thead>\n",
              "  <tbody>\n",
              "    <tr>\n",
              "      <th>6826</th>\n",
              "      <td>I feel like that episode of Victorious when th...</td>\n",
              "      <td>0</td>\n",
              "    </tr>\n",
              "    <tr>\n",
              "      <th>7339</th>\n",
              "      <td>Wildfire Burns On California U.s. China Econom...</td>\n",
              "      <td>1</td>\n",
              "    </tr>\n",
              "    <tr>\n",
              "      <th>3849</th>\n",
              "      <td>that new lil b x chance is nothing but flames</td>\n",
              "      <td>0</td>\n",
              "    </tr>\n",
              "    <tr>\n",
              "      <th>4983</th>\n",
              "      <td>Hat #russian soviet army kgb  military #cossac...</td>\n",
              "      <td>0</td>\n",
              "    </tr>\n",
              "    <tr>\n",
              "      <th>5562</th>\n",
              "      <td>Landslide in Italian Alps kills three: ROME (R...</td>\n",
              "      <td>1</td>\n",
              "    </tr>\n",
              "  </tbody>\n",
              "</table>\n",
              "</div>"
            ],
            "text/plain": [
              "                                                   text  target\n",
              "6826  I feel like that episode of Victorious when th...       0\n",
              "7339  Wildfire Burns On California U.s. China Econom...       1\n",
              "3849      that new lil b x chance is nothing but flames       0\n",
              "4983  Hat #russian soviet army kgb  military #cossac...       0\n",
              "5562  Landslide in Italian Alps kills three: ROME (R...       1"
            ]
          },
          "metadata": {
            "tags": []
          },
          "execution_count": 29
        }
      ]
    },
    {
      "cell_type": "code",
      "metadata": {
        "id": "LF-O3gQ-Ghi0"
      },
      "source": [
        "#for further use it makes sense to define train and test data for vectorization\n",
        "X_train = train['lemmatized']\n",
        "y_train = train['target']\n",
        "X_test = test['text']\n",
        "y_test = test['target']"
      ],
      "execution_count": 30,
      "outputs": []
    },
    {
      "cell_type": "code",
      "metadata": {
        "id": "0UzPjdWaGhi2",
        "outputId": "5ff8737d-f986-4900-f086-22f695e40639",
        "colab": {
          "base_uri": "https://localhost:8080/",
          "height": 51
        }
      },
      "source": [
        "from sklearn.linear_model import LogisticRegression\n",
        "from sklearn.feature_extraction.text import TfidfVectorizer\n",
        "from sklearn.feature_extraction.text import CountVectorizer\n",
        "from sklearn.pipeline import make_pipeline\n",
        "from sklearn.model_selection import cross_val_score\n",
        "\n",
        "pipeline1 = make_pipeline(CountVectorizer(), LogisticRegression())\n",
        "pipeline2 = make_pipeline(TfidfVectorizer(), LogisticRegression())\n",
        "\n",
        "print(\"CountVectorizer training data\", cross_val_score(pipeline1, X_train, y_train, scoring='f1').mean())\n",
        "print(\"TfidfVectorizer training data\", cross_val_score(pipeline2, X_train, y_train, scoring='f1').mean())"
      ],
      "execution_count": 31,
      "outputs": [
        {
          "output_type": "stream",
          "text": [
            "CountVectorizer training data 0.7463666967648168\n",
            "TfidfVectorizer training data 0.7325979968539705\n"
          ],
          "name": "stdout"
        }
      ]
    },
    {
      "cell_type": "code",
      "metadata": {
        "id": "SQbypwXqGhi6",
        "outputId": "60720ce6-dda4-4e0f-f20a-c29a43d36a48",
        "colab": {
          "base_uri": "https://localhost:8080/",
          "height": 51
        }
      },
      "source": [
        "from sklearn.feature_extraction.text import CountVectorizer\n",
        "from sklearn.pipeline import make_pipeline\n",
        "from sklearn.model_selection import cross_val_score\n",
        "\n",
        "pipeline1 = make_pipeline(CountVectorizer(), LogisticRegression())\n",
        "pipeline2 = make_pipeline(TfidfVectorizer(), LogisticRegression())\n",
        "\n",
        "print(\"CountVectorizer testing data\", cross_val_score(pipeline1, X_test, y_test, scoring='f1').mean())\n",
        "print(\"TfidfVectorizer testing data\", cross_val_score(pipeline2, X_test, y_test, scoring='f1').mean())"
      ],
      "execution_count": 32,
      "outputs": [
        {
          "output_type": "stream",
          "text": [
            "CountVectorizer testing data 0.6973333581332404\n",
            "TfidfVectorizer testing data 0.6854452245645097\n"
          ],
          "name": "stdout"
        }
      ]
    },
    {
      "cell_type": "code",
      "metadata": {
        "id": "sxPcKx5jG0x5"
      },
      "source": [
        ""
      ],
      "execution_count": null,
      "outputs": []
    },
    {
      "cell_type": "code",
      "metadata": {
        "id": "YPqRvhFAGhjB",
        "outputId": "53ffbf28-596d-40c2-efdb-d6b0f728cc9a",
        "colab": {
          "base_uri": "https://localhost:8080/",
          "height": 34
        }
      },
      "source": [
        "text = []\n",
        "text.append(\"fire california\")\n",
        "text"
      ],
      "execution_count": 34,
      "outputs": [
        {
          "output_type": "execute_result",
          "data": {
            "text/plain": [
              "['fire california']"
            ]
          },
          "metadata": {
            "tags": []
          },
          "execution_count": 34
        }
      ]
    },
    {
      "cell_type": "code",
      "metadata": {
        "id": "NG9wuBA3GhjD",
        "outputId": "b1cd3e76-e14d-4a99-bd00-af441ffbf574",
        "colab": {
          "base_uri": "https://localhost:8080/",
          "height": 34
        }
      },
      "source": [
        "from sklearn.feature_extraction.text import TfidfVectorizer\n",
        "vectorizer = TfidfVectorizer()\n",
        "X_train_fit = vectorizer.fit_transform(X_train)\n",
        "from sklearn.linear_model import LogisticRegression\n",
        "logreg = LogisticRegression()\n",
        "logreg.fit(X_train_fit, y_train)\n",
        "X_test_fit = vectorizer.transform(X_test)\n",
        "textpred = vectorizer.transform(text)\n",
        "y_pred = logreg.predict(textpred)\n",
        "y_pred"
      ],
      "execution_count": 35,
      "outputs": [
        {
          "output_type": "execute_result",
          "data": {
            "text/plain": [
              "array([1])"
            ]
          },
          "metadata": {
            "tags": []
          },
          "execution_count": 35
        }
      ]
    },
    {
      "cell_type": "code",
      "metadata": {
        "id": "o7J7UhCQGhjG"
      },
      "source": [
        "def test(tweet):\n",
        "    text = []\n",
        "    text.append(tweet)\n",
        "    textpred = vectorizer.transform(text)\n",
        "    y_pred = logreg.predict(textpred)\n",
        "    print(y_pred)"
      ],
      "execution_count": 36,
      "outputs": []
    },
    {
      "cell_type": "code",
      "metadata": {
        "id": "FWpARZaJGhjI",
        "outputId": "fb04340a-4bd3-4ab9-913c-66a703fe4304",
        "colab": {
          "base_uri": "https://localhost:8080/",
          "height": 34
        }
      },
      "source": [
        "test('in california is sunshine')"
      ],
      "execution_count": 37,
      "outputs": [
        {
          "output_type": "stream",
          "text": [
            "[1]\n"
          ],
          "name": "stdout"
        }
      ]
    },
    {
      "cell_type": "code",
      "metadata": {
        "id": "ZxqljQCgGhjV"
      },
      "source": [
        ""
      ],
      "execution_count": 37,
      "outputs": []
    },
    {
      "cell_type": "code",
      "metadata": {
        "id": "VxQ15riVGhjY",
        "outputId": "9e1c7385-8fc5-4380-f38b-466f6272caac",
        "colab": {
          "base_uri": "https://localhost:8080/",
          "height": 102
        }
      },
      "source": [
        "from sklearn.linear_model import LogisticRegression\n",
        "logreg = LogisticRegression()\n",
        "logreg.fit(X_train_fit, y_train)"
      ],
      "execution_count": 38,
      "outputs": [
        {
          "output_type": "execute_result",
          "data": {
            "text/plain": [
              "LogisticRegression(C=1.0, class_weight=None, dual=False, fit_intercept=True,\n",
              "                   intercept_scaling=1, l1_ratio=None, max_iter=100,\n",
              "                   multi_class='auto', n_jobs=None, penalty='l2',\n",
              "                   random_state=None, solver='lbfgs', tol=0.0001, verbose=0,\n",
              "                   warm_start=False)"
            ]
          },
          "metadata": {
            "tags": []
          },
          "execution_count": 38
        }
      ]
    },
    {
      "cell_type": "code",
      "metadata": {
        "id": "JyVRSvpBGhja"
      },
      "source": [
        "X_test_fit = vectorizer.transform(X_test)\n",
        "y_pred = logreg.predict(X_test_fit)"
      ],
      "execution_count": 39,
      "outputs": []
    },
    {
      "cell_type": "code",
      "metadata": {
        "id": "DF8Kx2joGhjc"
      },
      "source": [
        "model_score = logreg.score(X_train_fit, y_train)"
      ],
      "execution_count": 40,
      "outputs": []
    },
    {
      "cell_type": "code",
      "metadata": {
        "id": "6-afRuirGhje",
        "outputId": "9dcfc795-f12b-4c45-b361-76c082459884",
        "colab": {
          "base_uri": "https://localhost:8080/",
          "height": 34
        }
      },
      "source": [
        "from sklearn.metrics import accuracy_score\n",
        "accuracy = accuracy_score(y_test, y_pred)\n",
        "accuracy_percentage = 100 * accuracy\n",
        "accuracy_percentage"
      ],
      "execution_count": 41,
      "outputs": [
        {
          "output_type": "execute_result",
          "data": {
            "text/plain": [
              "77.15036112934996"
            ]
          },
          "metadata": {
            "tags": []
          },
          "execution_count": 41
        }
      ]
    },
    {
      "cell_type": "code",
      "metadata": {
        "id": "9FQa6ad7Ghjh",
        "outputId": "a57014dd-2732-4156-efe3-466fd3e3737a",
        "colab": {
          "base_uri": "https://localhost:8080/",
          "height": 282
        }
      },
      "source": [
        "from sklearn.metrics import confusion_matrix\n",
        "import seaborn as sns\n",
        "sns.heatmap(confusion_matrix(y_test, y_pred), annot=True, fmt=\"\")"
      ],
      "execution_count": 42,
      "outputs": [
        {
          "output_type": "execute_result",
          "data": {
            "text/plain": [
              "<matplotlib.axes._subplots.AxesSubplot at 0x7f98bed564e0>"
            ]
          },
          "metadata": {
            "tags": []
          },
          "execution_count": 42
        },
        {
          "output_type": "display_data",
          "data": {
            "image/png": "[encoded data removed]",
            "text/plain": [
              "<Figure size 432x288 with 2 Axes>"
            ]
          },
          "metadata": {
            "tags": [],
            "needs_background": "light"
          }
        }
      ]
    }
  ]
}